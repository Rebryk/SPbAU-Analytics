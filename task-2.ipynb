{
 "cells": [
  {
   "cell_type": "code",
   "execution_count": 1,
   "metadata": {},
   "outputs": [
    {
     "name": "stderr",
     "output_type": "stream",
     "text": [
      "/home/y_rebryk/anaconda3/lib/python3.6/site-packages/sklearn/cross_validation.py:44: DeprecationWarning: This module was deprecated in version 0.18 in favor of the model_selection module into which all the refactored classes and functions are moved. Also note that the interface of the new CV iterators are different from that of this module. This module will be removed in 0.20.\n",
      "  \"This module will be removed in 0.20.\", DeprecationWarning)\n"
     ]
    }
   ],
   "source": [
    "import scipy\n",
    "import matplotlib\n",
    "import numpy as np\n",
    "import pandas as pd\n",
    "import numpy.ma as ma\n",
    "import seaborn as sns\n",
    "import xgboost as xgb\n",
    "import matplotlib.pyplot as plt\n",
    "\n",
    "from colors import red\n",
    "from collections import Counter\n",
    "from sklearn import linear_model\n",
    "from sklearn.model_selection import StratifiedShuffleSplit\n",
    "\n",
    "%matplotlib inline  \n",
    "DEFAULT_DPI = 600\n",
    "matplotlib.rcParams['figure.figsize'] = (8, 5)"
   ]
  },
  {
   "cell_type": "markdown",
   "metadata": {},
   "source": [
    "## Dataset"
   ]
  },
  {
   "cell_type": "code",
   "execution_count": 2,
   "metadata": {
    "collapsed": true
   },
   "outputs": [],
   "source": [
    "def convert(s):\n",
    "    d = {\"пн\": 1, \"вт\": 2, \"ср\": 3, \"чт\": 4, \"пт\": 5, \"сб\": 6, \"вс\": 7, \"-\": 0, \"\": 0}\n",
    "    if s in d.keys():\n",
    "        return d[s]\n",
    "    else:\n",
    "        return float(s)"
   ]
  },
  {
   "cell_type": "code",
   "execution_count": 3,
   "metadata": {
    "collapsed": true
   },
   "outputs": [],
   "source": [
    "ncols = 55\n",
    "data = np.genfromtxt(\"data/dataset_16_2.dms\", \n",
    "                     delimiter=\"\\t\", \n",
    "                     converters=dict(zip(range(ncols), [convert] * ncols)), \n",
    "                     invalid_raise=False)\n",
    "\n",
    "df = pd.DataFrame(data)"
   ]
  },
  {
   "cell_type": "markdown",
   "metadata": {},
   "source": [
    "## Processing"
   ]
  },
  {
   "cell_type": "markdown",
   "metadata": {},
   "source": [
    "### NaN values"
   ]
  },
  {
   "cell_type": "code",
   "execution_count": 4,
   "metadata": {},
   "outputs": [
    {
     "name": "stdout",
     "output_type": "stream",
     "text": [
      "\u001b[31mPercent of nulls for f0: 100.00%\u001b[0m\n",
      "\u001b[31mPercent of nulls for f1: 100.00%\u001b[0m\n",
      "\u001b[31mPercent of nulls for f4: 76.51%\u001b[0m\n",
      "\u001b[31mPercent of nulls for f8: 81.50%\u001b[0m\n",
      "\u001b[31mPercent of nulls for f19: 76.51%\u001b[0m\n",
      "\u001b[31mPercent of nulls for f20: 76.51%\u001b[0m\n",
      "\u001b[31mPercent of nulls for f21: 76.51%\u001b[0m\n",
      "\u001b[31mPercent of nulls for f22: 76.51%\u001b[0m\n",
      "\u001b[31mPercent of nulls for f23: 76.51%\u001b[0m\n",
      "\u001b[31mPercent of nulls for f24: 76.51%\u001b[0m\n",
      "\u001b[31mPercent of nulls for f25: 76.51%\u001b[0m\n",
      "\u001b[31mPercent of nulls for f26: 76.51%\u001b[0m\n",
      "\u001b[31mPercent of nulls for f27: 85.31%\u001b[0m\n",
      "\u001b[31mPercent of nulls for f28: 85.31%\u001b[0m\n",
      "\u001b[31mPercent of nulls for f29: 76.51%\u001b[0m\n",
      "\u001b[31mPercent of nulls for f30: 76.51%\u001b[0m\n",
      "\u001b[31mPercent of nulls for f31: 99.54%\u001b[0m\n",
      "\u001b[31mPercent of nulls for f32: 85.78%\u001b[0m\n",
      "\u001b[31mPercent of nulls for f33: 85.78%\u001b[0m\n",
      "\u001b[31mPercent of nulls for f35: 76.51%\u001b[0m\n",
      "\u001b[31mPercent of nulls for f36: 76.51%\u001b[0m\n",
      "\u001b[31mPercent of nulls for f37: 76.51%\u001b[0m\n",
      "\u001b[31mPercent of nulls for f38: 85.37%\u001b[0m\n",
      "\u001b[31mPercent of nulls for f39: 85.37%\u001b[0m\n",
      "\u001b[31mPercent of nulls for f40: 85.37%\u001b[0m\n",
      "\u001b[31mPercent of nulls for f41: 85.37%\u001b[0m\n",
      "\u001b[31mPercent of nulls for f42: 76.51%\u001b[0m\n",
      "\u001b[31mPercent of nulls for f43: 76.51%\u001b[0m\n",
      "\u001b[31mPercent of nulls for f44: 87.82%\u001b[0m\n",
      "\u001b[31mPercent of nulls for f45: 85.31%\u001b[0m\n",
      "\u001b[31mPercent of nulls for f46: 76.51%\u001b[0m\n",
      "\u001b[31mPercent of nulls for f47: 76.51%\u001b[0m\n",
      "\u001b[31mPercent of nulls for f48: 85.78%\u001b[0m\n",
      "\u001b[31mPercent of nulls for f49: 90.96%\u001b[0m\n",
      "\u001b[31mPercent of nulls for f50: 91.73%\u001b[0m\n",
      "\u001b[31mPercent of nulls for f51: 91.17%\u001b[0m\n",
      "\u001b[31mPercent of nulls for f52: 76.51%\u001b[0m\n",
      "\u001b[31mPercent of nulls for f53: 94.80%\u001b[0m\n"
     ]
    }
   ],
   "source": [
    "theshold = 0.70\n",
    "columns_to_remove = []\n",
    "\n",
    "for index in range(ncols):\n",
    "    null_ratio = df.iloc[:, index].isnull().sum() / len(df)\n",
    "    msg = \"Percent of nulls for f{}: {:3.2f}%\".format(index, 100 * null_ratio)\n",
    "    \n",
    "    if null_ratio:\n",
    "        if null_ratio > theshold:\n",
    "            columns_to_remove.append(\"f{}\".format(index))\n",
    "            \n",
    "        print(red(msg) if null_ratio > theshold else msg)"
   ]
  },
  {
   "cell_type": "code",
   "execution_count": 5,
   "metadata": {},
   "outputs": [
    {
     "data": {
      "text/html": [
       "<div>\n",
       "<style>\n",
       "    .dataframe thead tr:only-child th {\n",
       "        text-align: right;\n",
       "    }\n",
       "\n",
       "    .dataframe thead th {\n",
       "        text-align: left;\n",
       "    }\n",
       "\n",
       "    .dataframe tbody tr th {\n",
       "        vertical-align: top;\n",
       "    }\n",
       "</style>\n",
       "<table border=\"1\" class=\"dataframe\">\n",
       "  <thead>\n",
       "    <tr style=\"text-align: right;\">\n",
       "      <th></th>\n",
       "      <th>f2</th>\n",
       "      <th>f3</th>\n",
       "      <th>f5</th>\n",
       "      <th>f6</th>\n",
       "      <th>f7</th>\n",
       "      <th>f9</th>\n",
       "      <th>f10</th>\n",
       "      <th>f11</th>\n",
       "      <th>f12</th>\n",
       "      <th>f13</th>\n",
       "      <th>f14</th>\n",
       "      <th>f15</th>\n",
       "      <th>f16</th>\n",
       "      <th>f17</th>\n",
       "      <th>f18</th>\n",
       "      <th>f34</th>\n",
       "      <th>f54</th>\n",
       "    </tr>\n",
       "  </thead>\n",
       "  <tbody>\n",
       "    <tr>\n",
       "      <th>0</th>\n",
       "      <td>1.429627e+09</td>\n",
       "      <td>162.0</td>\n",
       "      <td>25910.0</td>\n",
       "      <td>6.0</td>\n",
       "      <td>13.0</td>\n",
       "      <td>64.0</td>\n",
       "      <td>1.0</td>\n",
       "      <td>1.0</td>\n",
       "      <td>0.0</td>\n",
       "      <td>56.0</td>\n",
       "      <td>56.0</td>\n",
       "      <td>8.0</td>\n",
       "      <td>0.0</td>\n",
       "      <td>33.0</td>\n",
       "      <td>3.0</td>\n",
       "      <td>0.0</td>\n",
       "      <td>2.0</td>\n",
       "    </tr>\n",
       "    <tr>\n",
       "      <th>1</th>\n",
       "      <td>1.443636e+09</td>\n",
       "      <td>0.0</td>\n",
       "      <td>6971.0</td>\n",
       "      <td>8.0</td>\n",
       "      <td>10.0</td>\n",
       "      <td>0.0</td>\n",
       "      <td>0.0</td>\n",
       "      <td>1.0</td>\n",
       "      <td>0.0</td>\n",
       "      <td>2.0</td>\n",
       "      <td>2.0</td>\n",
       "      <td>0.0</td>\n",
       "      <td>0.0</td>\n",
       "      <td>2.0</td>\n",
       "      <td>0.0</td>\n",
       "      <td>0.0</td>\n",
       "      <td>2.0</td>\n",
       "    </tr>\n",
       "    <tr>\n",
       "      <th>2</th>\n",
       "      <td>1.443653e+09</td>\n",
       "      <td>0.0</td>\n",
       "      <td>1825.0</td>\n",
       "      <td>1.0</td>\n",
       "      <td>2.0</td>\n",
       "      <td>0.0</td>\n",
       "      <td>0.0</td>\n",
       "      <td>1.0</td>\n",
       "      <td>0.0</td>\n",
       "      <td>1.0</td>\n",
       "      <td>1.0</td>\n",
       "      <td>0.0</td>\n",
       "      <td>0.0</td>\n",
       "      <td>1.0</td>\n",
       "      <td>0.0</td>\n",
       "      <td>0.0</td>\n",
       "      <td>1.0</td>\n",
       "    </tr>\n",
       "    <tr>\n",
       "      <th>3</th>\n",
       "      <td>1.405667e+09</td>\n",
       "      <td>439.0</td>\n",
       "      <td>15.0</td>\n",
       "      <td>9.0</td>\n",
       "      <td>9.0</td>\n",
       "      <td>0.0</td>\n",
       "      <td>0.0</td>\n",
       "      <td>1.0</td>\n",
       "      <td>0.0</td>\n",
       "      <td>56.0</td>\n",
       "      <td>56.0</td>\n",
       "      <td>0.0</td>\n",
       "      <td>0.0</td>\n",
       "      <td>23.0</td>\n",
       "      <td>0.0</td>\n",
       "      <td>0.0</td>\n",
       "      <td>1.0</td>\n",
       "    </tr>\n",
       "    <tr>\n",
       "      <th>4</th>\n",
       "      <td>1.430734e+09</td>\n",
       "      <td>150.0</td>\n",
       "      <td>29562.0</td>\n",
       "      <td>13.0</td>\n",
       "      <td>21.0</td>\n",
       "      <td>17.0</td>\n",
       "      <td>1.0</td>\n",
       "      <td>1.0</td>\n",
       "      <td>0.0</td>\n",
       "      <td>56.0</td>\n",
       "      <td>56.0</td>\n",
       "      <td>45.0</td>\n",
       "      <td>0.0</td>\n",
       "      <td>10.0</td>\n",
       "      <td>38.0</td>\n",
       "      <td>0.0</td>\n",
       "      <td>1.0</td>\n",
       "    </tr>\n",
       "  </tbody>\n",
       "</table>\n",
       "</div>"
      ],
      "text/plain": [
       "             f2     f3       f5    f6    f7    f9  f10  f11  f12   f13   f14  \\\n",
       "0  1.429627e+09  162.0  25910.0   6.0  13.0  64.0  1.0  1.0  0.0  56.0  56.0   \n",
       "1  1.443636e+09    0.0   6971.0   8.0  10.0   0.0  0.0  1.0  0.0   2.0   2.0   \n",
       "2  1.443653e+09    0.0   1825.0   1.0   2.0   0.0  0.0  1.0  0.0   1.0   1.0   \n",
       "3  1.405667e+09  439.0     15.0   9.0   9.0   0.0  0.0  1.0  0.0  56.0  56.0   \n",
       "4  1.430734e+09  150.0  29562.0  13.0  21.0  17.0  1.0  1.0  0.0  56.0  56.0   \n",
       "\n",
       "    f15  f16   f17   f18  f34  f54  \n",
       "0   8.0  0.0  33.0   3.0  0.0  2.0  \n",
       "1   0.0  0.0   2.0   0.0  0.0  2.0  \n",
       "2   0.0  0.0   1.0   0.0  0.0  1.0  \n",
       "3   0.0  0.0  23.0   0.0  0.0  1.0  \n",
       "4  45.0  0.0  10.0  38.0  0.0  1.0  "
      ]
     },
     "execution_count": 5,
     "metadata": {},
     "output_type": "execute_result"
    }
   ],
   "source": [
    "df = df.drop(columns_to_remove, axis=1)\n",
    "df.head()"
   ]
  },
  {
   "cell_type": "code",
   "execution_count": 6,
   "metadata": {},
   "outputs": [
    {
     "data": {
      "text/plain": [
       "<matplotlib.axes._subplots.AxesSubplot at 0x2b3b283795c0>"
      ]
     },
     "execution_count": 6,
     "metadata": {},
     "output_type": "execute_result"
    },
    {
     "data": {
      "image/png": "[encoded data removed]",
      "text/plain": [
       "<matplotlib.figure.Figure at 0x2b3b28359cf8>"
      ]
     },
     "metadata": {},
     "output_type": "display_data"
    }
   ],
   "source": [
    "corr = df.corr()\n",
    "\n",
    "_, ax = plt.subplots(figsize=(15, 8))\n",
    "sns.heatmap(corr, annot=True, ax=ax)"
   ]
  },
  {
   "cell_type": "code",
   "execution_count": 7,
   "metadata": {},
   "outputs": [
    {
     "name": "stdout",
     "output_type": "stream",
     "text": [
      "For f12: ['f16']\n",
      "For f13: ['f14', 'f17']\n",
      "For f14: ['f17']\n"
     ]
    }
   ],
   "source": [
    "treshold = 0.8\n",
    "columns = corr.columns.values\n",
    "\n",
    "features = set()\n",
    "\n",
    "for i in range(len(columns)):\n",
    "    dependent = [j for j in range(i + 1, len(columns)) if corr.iloc[i, j] >= treshold]\n",
    "    \n",
    "    if dependent:\n",
    "        features.add(i)\n",
    "        \n",
    "        for it in dependent:\n",
    "            features.add(it)\n",
    "        \n",
    "        print(\"For {}: {}\".format(columns[i], [columns[it] for it in dependent]))"
   ]
  },
  {
   "cell_type": "code",
   "execution_count": 8,
   "metadata": {},
   "outputs": [
    {
     "data": {
      "text/plain": [
       "<matplotlib.axes._subplots.AxesSubplot at 0x2b3b2882c080>"
      ]
     },
     "execution_count": 8,
     "metadata": {},
     "output_type": "execute_result"
    },
    {
     "data": {
      "image/png": "[encoded data removed]",
      "text/plain": [
       "<matplotlib.figure.Figure at 0x2b3b28090978>"
      ]
     },
     "metadata": {},
     "output_type": "display_data"
    }
   ],
   "source": [
    "high_corr = corr.iloc[list(features), list(features)]\n",
    "_, ax = plt.subplots(figsize=(15, 8))\n",
    "sns.heatmap(high_corr, annot=True, ax=ax)"
   ]
  },
  {
   "cell_type": "markdown",
   "metadata": {},
   "source": [
    "* We can drop **f12** because it is dependent on **f16**\n",
    "* We can drop **f13** and **f14** because they are dependent on **f17**."
   ]
  },
  {
   "cell_type": "code",
   "execution_count": 9,
   "metadata": {},
   "outputs": [
    {
     "data": {
      "text/html": [
       "<div>\n",
       "<style>\n",
       "    .dataframe thead tr:only-child th {\n",
       "        text-align: right;\n",
       "    }\n",
       "\n",
       "    .dataframe thead th {\n",
       "        text-align: left;\n",
       "    }\n",
       "\n",
       "    .dataframe tbody tr th {\n",
       "        vertical-align: top;\n",
       "    }\n",
       "</style>\n",
       "<table border=\"1\" class=\"dataframe\">\n",
       "  <thead>\n",
       "    <tr style=\"text-align: right;\">\n",
       "      <th></th>\n",
       "      <th>f2</th>\n",
       "      <th>f3</th>\n",
       "      <th>f5</th>\n",
       "      <th>f6</th>\n",
       "      <th>f7</th>\n",
       "      <th>f9</th>\n",
       "      <th>f10</th>\n",
       "      <th>f11</th>\n",
       "      <th>f15</th>\n",
       "      <th>f16</th>\n",
       "      <th>f17</th>\n",
       "      <th>f18</th>\n",
       "      <th>f34</th>\n",
       "      <th>f54</th>\n",
       "    </tr>\n",
       "  </thead>\n",
       "  <tbody>\n",
       "    <tr>\n",
       "      <th>0</th>\n",
       "      <td>1.429627e+09</td>\n",
       "      <td>162.0</td>\n",
       "      <td>25910.0</td>\n",
       "      <td>6.0</td>\n",
       "      <td>13.0</td>\n",
       "      <td>64.0</td>\n",
       "      <td>1.0</td>\n",
       "      <td>1.0</td>\n",
       "      <td>8.0</td>\n",
       "      <td>0.0</td>\n",
       "      <td>33.0</td>\n",
       "      <td>3.0</td>\n",
       "      <td>0.0</td>\n",
       "      <td>2.0</td>\n",
       "    </tr>\n",
       "    <tr>\n",
       "      <th>1</th>\n",
       "      <td>1.443636e+09</td>\n",
       "      <td>0.0</td>\n",
       "      <td>6971.0</td>\n",
       "      <td>8.0</td>\n",
       "      <td>10.0</td>\n",
       "      <td>0.0</td>\n",
       "      <td>0.0</td>\n",
       "      <td>1.0</td>\n",
       "      <td>0.0</td>\n",
       "      <td>0.0</td>\n",
       "      <td>2.0</td>\n",
       "      <td>0.0</td>\n",
       "      <td>0.0</td>\n",
       "      <td>2.0</td>\n",
       "    </tr>\n",
       "    <tr>\n",
       "      <th>2</th>\n",
       "      <td>1.443653e+09</td>\n",
       "      <td>0.0</td>\n",
       "      <td>1825.0</td>\n",
       "      <td>1.0</td>\n",
       "      <td>2.0</td>\n",
       "      <td>0.0</td>\n",
       "      <td>0.0</td>\n",
       "      <td>1.0</td>\n",
       "      <td>0.0</td>\n",
       "      <td>0.0</td>\n",
       "      <td>1.0</td>\n",
       "      <td>0.0</td>\n",
       "      <td>0.0</td>\n",
       "      <td>1.0</td>\n",
       "    </tr>\n",
       "    <tr>\n",
       "      <th>3</th>\n",
       "      <td>1.405667e+09</td>\n",
       "      <td>439.0</td>\n",
       "      <td>15.0</td>\n",
       "      <td>9.0</td>\n",
       "      <td>9.0</td>\n",
       "      <td>0.0</td>\n",
       "      <td>0.0</td>\n",
       "      <td>1.0</td>\n",
       "      <td>0.0</td>\n",
       "      <td>0.0</td>\n",
       "      <td>23.0</td>\n",
       "      <td>0.0</td>\n",
       "      <td>0.0</td>\n",
       "      <td>1.0</td>\n",
       "    </tr>\n",
       "    <tr>\n",
       "      <th>4</th>\n",
       "      <td>1.430734e+09</td>\n",
       "      <td>150.0</td>\n",
       "      <td>29562.0</td>\n",
       "      <td>13.0</td>\n",
       "      <td>21.0</td>\n",
       "      <td>17.0</td>\n",
       "      <td>1.0</td>\n",
       "      <td>1.0</td>\n",
       "      <td>45.0</td>\n",
       "      <td>0.0</td>\n",
       "      <td>10.0</td>\n",
       "      <td>38.0</td>\n",
       "      <td>0.0</td>\n",
       "      <td>1.0</td>\n",
       "    </tr>\n",
       "  </tbody>\n",
       "</table>\n",
       "</div>"
      ],
      "text/plain": [
       "             f2     f3       f5    f6    f7    f9  f10  f11   f15  f16   f17  \\\n",
       "0  1.429627e+09  162.0  25910.0   6.0  13.0  64.0  1.0  1.0   8.0  0.0  33.0   \n",
       "1  1.443636e+09    0.0   6971.0   8.0  10.0   0.0  0.0  1.0   0.0  0.0   2.0   \n",
       "2  1.443653e+09    0.0   1825.0   1.0   2.0   0.0  0.0  1.0   0.0  0.0   1.0   \n",
       "3  1.405667e+09  439.0     15.0   9.0   9.0   0.0  0.0  1.0   0.0  0.0  23.0   \n",
       "4  1.430734e+09  150.0  29562.0  13.0  21.0  17.0  1.0  1.0  45.0  0.0  10.0   \n",
       "\n",
       "    f18  f34  f54  \n",
       "0   3.0  0.0  2.0  \n",
       "1   0.0  0.0  2.0  \n",
       "2   0.0  0.0  1.0  \n",
       "3   0.0  0.0  1.0  \n",
       "4  38.0  0.0  1.0  "
      ]
     },
     "execution_count": 9,
     "metadata": {},
     "output_type": "execute_result"
    }
   ],
   "source": [
    "df = df.drop([\"f12\", \"f13\", \"f14\"], axis=1)\n",
    "df.head()"
   ]
  },
  {
   "cell_type": "markdown",
   "metadata": {},
   "source": [
    "### Values distributions"
   ]
  },
  {
   "cell_type": "code",
   "execution_count": 16,
   "metadata": {},
   "outputs": [
    {
     "data": {
      "image/png": "[encoded data removed]",
      "text/plain": [
       "<matplotlib.figure.Figure at 0x2b3b2bb89fd0>"
      ]
     },
     "metadata": {},
     "output_type": "display_data"
    }
   ],
   "source": [
    "columns = df.columns.values\n",
    "\n",
    "_, ax = plt.subplots(figsize=(20, 20), nrows=5, ncols=3)\n",
    "\n",
    "for i in range(len(columns)):\n",
    "    sns.distplot(df.iloc[:, i].dropna(), bins=50, kde=False, ax=ax[i // 3, i % 3])"
   ]
  },
  {
   "cell_type": "markdown",
   "metadata": {},
   "source": [
    "### Unique values"
   ]
  },
  {
   "cell_type": "code",
   "execution_count": 17,
   "metadata": {},
   "outputs": [
    {
     "name": "stdout",
     "output_type": "stream",
     "text": [
      "Unique values for f2: 9013\n",
      "Unique values for f3: 875\n",
      "Unique values for f5: 4031\n",
      "Unique values for f6: 24\n",
      "Unique values for f7: 24\n",
      "Unique values for f9: 307\n",
      "Unique values for f10: 2\n",
      "Unique values for f11: 2\n",
      "Unique values for f15: 57\n",
      "Unique values for f16: 54\n",
      "Unique values for f17: 57\n",
      "Unique values for f18: 56\n",
      "Unique values for f34: 2\n",
      "Unique values for f54: 17\n"
     ]
    }
   ],
   "source": [
    "for i in range(len(columns)):\n",
    "    unique_count = len(df.iloc[:, i].unique())\n",
    "    print(\"Unique values for {}: {}\".format(columns[i], unique_count))"
   ]
  },
  {
   "cell_type": "markdown",
   "metadata": {},
   "source": [
    "It looks like:\n",
    "* **f10**, **f11**, **f34** are binary features (also **f12**, but we have already dropped it).\n",
    "* **f6**, **f7** are categorical features."
   ]
  },
  {
   "cell_type": "markdown",
   "metadata": {},
   "source": [
    "## Fraud events"
   ]
  },
  {
   "cell_type": "code",
   "execution_count": 18,
   "metadata": {
    "collapsed": true
   },
   "outputs": [],
   "source": [
    "events_count, columns_count = df.shape\n",
    "abnormality = np.zeros(events_count)\n",
    "distribution = {column: Counter(df[column]) for column in columns}"
   ]
  },
  {
   "cell_type": "code",
   "execution_count": 19,
   "metadata": {
    "collapsed": true
   },
   "outputs": [],
   "source": [
    "for index, row in df.iterrows():\n",
    "    penalty = 0\n",
    "    \n",
    "    for column in columns:\n",
    "        percent = distribution[column][row[column]] / events_count\n",
    "        penalty += int(percent < 0.1) + 2 * int(percent < 0.02)\n",
    "    \n",
    "    abnormality[index] = penalty"
   ]
  },
  {
   "cell_type": "code",
   "execution_count": 20,
   "metadata": {},
   "outputs": [
    {
     "data": {
      "text/plain": [
       "<matplotlib.legend.Legend at 0x2b3b2be17978>"
      ]
     },
     "execution_count": 20,
     "metadata": {},
     "output_type": "execute_result"
    },
    {
     "data": {
      "image/png": "[encoded data removed]",
      "text/plain": [
       "<matplotlib.figure.Figure at 0x2b3b346ee780>"
      ]
     },
     "metadata": {},
     "output_type": "display_data"
    }
   ],
   "source": [
    "sns.distplot(abnormality, bins=15, axlabel=\"Abnormality\", label=\"Count\")\n",
    "plt.legend()"
   ]
  },
  {
   "cell_type": "markdown",
   "metadata": {},
   "source": [
    "Assume, that if abnormality is equal or greater than 25, user is fraud."
   ]
  },
  {
   "cell_type": "code",
   "execution_count": 21,
   "metadata": {},
   "outputs": [
    {
     "data": {
      "text/plain": [
       "97"
      ]
     },
     "execution_count": 21,
     "metadata": {},
     "output_type": "execute_result"
    }
   ],
   "source": [
    "np.sum(abnormality >= 25)"
   ]
  },
  {
   "cell_type": "code",
   "execution_count": 22,
   "metadata": {},
   "outputs": [
    {
     "name": "stdout",
     "output_type": "stream",
     "text": [
      "12.380826737 5.22689681627\n"
     ]
    }
   ],
   "source": [
    "print(np.mean(abnormality), np.std(abnormality))"
   ]
  },
  {
   "cell_type": "markdown",
   "metadata": {},
   "source": [
    "## Clusterization"
   ]
  },
  {
   "cell_type": "code",
   "execution_count": 23,
   "metadata": {},
   "outputs": [
    {
     "name": "stderr",
     "output_type": "stream",
     "text": [
      "/home/y_rebryk/anaconda3/lib/python3.6/site-packages/scipy/cluster/vq.py:660: UserWarning: One of the clusters is empty. Re-run kmean with a different initialization.\n",
      "  warnings.warn(\"One of the clusters is empty. \"\n"
     ]
    },
    {
     "data": {
      "text/html": [
       "<div>\n",
       "<style>\n",
       "    .dataframe thead tr:only-child th {\n",
       "        text-align: right;\n",
       "    }\n",
       "\n",
       "    .dataframe thead th {\n",
       "        text-align: left;\n",
       "    }\n",
       "\n",
       "    .dataframe tbody tr th {\n",
       "        vertical-align: top;\n",
       "    }\n",
       "</style>\n",
       "<table border=\"1\" class=\"dataframe\">\n",
       "  <thead>\n",
       "    <tr style=\"text-align: right;\">\n",
       "      <th></th>\n",
       "      <th>len</th>\n",
       "      <th>mean</th>\n",
       "      <th>std</th>\n",
       "      <th>truevar</th>\n",
       "    </tr>\n",
       "    <tr>\n",
       "      <th>cluster_id</th>\n",
       "      <th></th>\n",
       "      <th></th>\n",
       "      <th></th>\n",
       "      <th></th>\n",
       "    </tr>\n",
       "  </thead>\n",
       "  <tbody>\n",
       "    <tr>\n",
       "      <th>1</th>\n",
       "      <td>6186.0</td>\n",
       "      <td>10.546880</td>\n",
       "      <td>4.593111</td>\n",
       "      <td>21.093260</td>\n",
       "    </tr>\n",
       "    <tr>\n",
       "      <th>3</th>\n",
       "      <td>857.0</td>\n",
       "      <td>16.158693</td>\n",
       "      <td>4.234154</td>\n",
       "      <td>17.907139</td>\n",
       "    </tr>\n",
       "    <tr>\n",
       "      <th>4</th>\n",
       "      <td>1320.0</td>\n",
       "      <td>15.961364</td>\n",
       "      <td>4.171552</td>\n",
       "      <td>17.388659</td>\n",
       "    </tr>\n",
       "    <tr>\n",
       "      <th>5</th>\n",
       "      <td>474.0</td>\n",
       "      <td>16.537975</td>\n",
       "      <td>4.374106</td>\n",
       "      <td>19.092440</td>\n",
       "    </tr>\n",
       "    <tr>\n",
       "      <th>6</th>\n",
       "      <td>57.0</td>\n",
       "      <td>19.157895</td>\n",
       "      <td>3.802206</td>\n",
       "      <td>14.203139</td>\n",
       "    </tr>\n",
       "    <tr>\n",
       "      <th>7</th>\n",
       "      <td>202.0</td>\n",
       "      <td>17.450495</td>\n",
       "      <td>4.407143</td>\n",
       "      <td>19.326757</td>\n",
       "    </tr>\n",
       "  </tbody>\n",
       "</table>\n",
       "</div>"
      ],
      "text/plain": [
       "               len       mean       std    truevar\n",
       "cluster_id                                        \n",
       "1           6186.0  10.546880  4.593111  21.093260\n",
       "3            857.0  16.158693  4.234154  17.907139\n",
       "4           1320.0  15.961364  4.171552  17.388659\n",
       "5            474.0  16.537975  4.374106  19.092440\n",
       "6             57.0  19.157895  3.802206  14.203139\n",
       "7            202.0  17.450495  4.407143  19.326757"
      ]
     },
     "execution_count": 23,
     "metadata": {},
     "output_type": "execute_result"
    }
   ],
   "source": [
    "nclusters = 8\n",
    "\n",
    "centroid, label = scipy.cluster.vq.kmeans2(df, \n",
    "                                           nclusters, \n",
    "                                           iter=100, \n",
    "                                           thresh=1e-05, \n",
    "                                           minit=\"random\", \n",
    "                                           missing=\"warn\")\n",
    "\n",
    "def truevar(x): \n",
    "    return np.var(x)\n",
    "\n",
    "\n",
    "df_abn = pd.DataFrame(abnormality, columns=[[\"abn\"]])\n",
    "df_label = pd.DataFrame(label, columns=[[\"cluster_id\"]])\n",
    "cluster_stats = pd.concat([df_abn, df_label], axis=1).pivot_table(\n",
    "    index=\"cluster_id\",\n",
    "    values=\"abn\",\n",
    "    aggfunc=[len, np.mean, np.std, truevar]\n",
    ")\n",
    "\n",
    "cluster_stats = cluster_stats.reorder_levels([1,0], axis=1)[\"abn\"]\n",
    "cluster_stats"
   ]
  },
  {
   "cell_type": "markdown",
   "metadata": {},
   "source": [
    "### Calculate variance of abnormality inside clusters"
   ]
  },
  {
   "cell_type": "code",
   "execution_count": 24,
   "metadata": {},
   "outputs": [
    {
     "name": "stdout",
     "output_type": "stream",
     "text": [
      "Total abnormality variance: 27.320450327939486\n",
      "Abnormality variance explained by between-cluster variance: 26.54%\n",
      "Abnormality variance left inside clusters: 73.46%\n"
     ]
    },
    {
     "data": {
      "text/html": [
       "<div>\n",
       "<style>\n",
       "    .dataframe thead tr:only-child th {\n",
       "        text-align: right;\n",
       "    }\n",
       "\n",
       "    .dataframe thead th {\n",
       "        text-align: left;\n",
       "    }\n",
       "\n",
       "    .dataframe tbody tr th {\n",
       "        vertical-align: top;\n",
       "    }\n",
       "</style>\n",
       "<table border=\"1\" class=\"dataframe\">\n",
       "  <thead>\n",
       "    <tr style=\"text-align: right;\">\n",
       "      <th></th>\n",
       "      <th>len</th>\n",
       "      <th>mean</th>\n",
       "      <th>std</th>\n",
       "      <th>truevar</th>\n",
       "      <th>var_in_cluster</th>\n",
       "      <th>var_in_cluster_%</th>\n",
       "    </tr>\n",
       "    <tr>\n",
       "      <th>cluster_id</th>\n",
       "      <th></th>\n",
       "      <th></th>\n",
       "      <th></th>\n",
       "      <th></th>\n",
       "      <th></th>\n",
       "      <th></th>\n",
       "    </tr>\n",
       "  </thead>\n",
       "  <tbody>\n",
       "    <tr>\n",
       "      <th>1</th>\n",
       "      <td>6186.0</td>\n",
       "      <td>10.546880</td>\n",
       "      <td>4.593111</td>\n",
       "      <td>21.093260</td>\n",
       "      <td>14.345086</td>\n",
       "      <td>0.525068</td>\n",
       "    </tr>\n",
       "    <tr>\n",
       "      <th>3</th>\n",
       "      <td>857.0</td>\n",
       "      <td>16.158693</td>\n",
       "      <td>4.234154</td>\n",
       "      <td>17.907139</td>\n",
       "      <td>1.687161</td>\n",
       "      <td>0.061755</td>\n",
       "    </tr>\n",
       "    <tr>\n",
       "      <th>4</th>\n",
       "      <td>1320.0</td>\n",
       "      <td>15.961364</td>\n",
       "      <td>4.171552</td>\n",
       "      <td>17.388659</td>\n",
       "      <td>2.523420</td>\n",
       "      <td>0.092364</td>\n",
       "    </tr>\n",
       "    <tr>\n",
       "      <th>5</th>\n",
       "      <td>474.0</td>\n",
       "      <td>16.537975</td>\n",
       "      <td>4.374106</td>\n",
       "      <td>19.092440</td>\n",
       "      <td>0.994923</td>\n",
       "      <td>0.036417</td>\n",
       "    </tr>\n",
       "    <tr>\n",
       "      <th>6</th>\n",
       "      <td>57.0</td>\n",
       "      <td>19.157895</td>\n",
       "      <td>3.802206</td>\n",
       "      <td>14.203139</td>\n",
       "      <td>0.089004</td>\n",
       "      <td>0.003258</td>\n",
       "    </tr>\n",
       "    <tr>\n",
       "      <th>7</th>\n",
       "      <td>202.0</td>\n",
       "      <td>17.450495</td>\n",
       "      <td>4.407143</td>\n",
       "      <td>19.326757</td>\n",
       "      <td>0.429200</td>\n",
       "      <td>0.015710</td>\n",
       "    </tr>\n",
       "  </tbody>\n",
       "</table>\n",
       "</div>"
      ],
      "text/plain": [
       "               len       mean       std    truevar  var_in_cluster  \\\n",
       "cluster_id                                                           \n",
       "1           6186.0  10.546880  4.593111  21.093260       14.345086   \n",
       "3            857.0  16.158693  4.234154  17.907139        1.687161   \n",
       "4           1320.0  15.961364  4.171552  17.388659        2.523420   \n",
       "5            474.0  16.537975  4.374106  19.092440        0.994923   \n",
       "6             57.0  19.157895  3.802206  14.203139        0.089004   \n",
       "7            202.0  17.450495  4.407143  19.326757        0.429200   \n",
       "\n",
       "            var_in_cluster_%  \n",
       "cluster_id                    \n",
       "1                   0.525068  \n",
       "3                   0.061755  \n",
       "4                   0.092364  \n",
       "5                   0.036417  \n",
       "6                   0.003258  \n",
       "7                   0.015710  "
      ]
     },
     "execution_count": 24,
     "metadata": {},
     "output_type": "execute_result"
    }
   ],
   "source": [
    "cluster_stats[\"var_in_cluster\"] = cluster_stats[\"truevar\"] * cluster_stats[\"len\"] / sum(cluster_stats[\"len\"])\n",
    "totvar = np.var(abnormality)\n",
    "cluster_stats[\"var_in_cluster_%\"] = cluster_stats[\"var_in_cluster\"] / totvar\n",
    "\n",
    "abn_var_b = 100 * (1 - sum(cluster_stats[\"var_in_cluster_%\"]))\n",
    "abn_var_inside = 100 * sum(cluster_stats[\"var_in_cluster_%\"])\n",
    "\n",
    "print(\"Total abnormality variance: {}\".format(totvar))\n",
    "print(\"Abnormality variance explained by between-cluster variance: {:.2f}%\".format(abn_var_b))\n",
    "print(\"Abnormality variance left inside clusters: {:.2f}%\".format(abn_var_inside))\n",
    "\n",
    "cluster_stats"
   ]
  },
  {
   "cell_type": "code",
   "execution_count": 25,
   "metadata": {
    "collapsed": true
   },
   "outputs": [],
   "source": [
    "def cluster_by(abnormality, column):\n",
    "    df_abn = pd.DataFrame(abnormality, columns=[[\"abn\"]])\n",
    "    df_label = pd.DataFrame(df[column], columns=[[column]])\n",
    "\n",
    "    cluster_stats = pd.concat([df_abn, df_label], axis=1)\\\n",
    "    .pivot_table(\n",
    "        index=column,\n",
    "        values=\"abn\",\n",
    "        aggfunc=[len, np.mean, np.std, truevar]\n",
    "    )\\\n",
    "    .reorder_levels([1,0], axis=1)[\"abn\"]\n",
    "\n",
    "    cluster_stats[\"var_in_cluster\"] = cluster_stats[\"truevar\"] * cluster_stats[\"len\"] / sum(cluster_stats[\"len\"])\n",
    "    cluster_stats[\"var_in_cluster_%\"] = cluster_stats[\"var_in_cluster\"] / totvar\n",
    "\n",
    "    abn_var_b = 100 * (1 - sum(cluster_stats[\"var_in_cluster_%\"]))\n",
    "    abn_var_inside = 100 * sum(cluster_stats[\"var_in_cluster_%\"])\n",
    "\n",
    "    print(\"Total abnormality variance: {}\".format(totvar))\n",
    "    print(\"Abnormality variance explained by between-cluster variance: {:.2f}%\".format(abn_var_b))\n",
    "    print(\"Abnormality variance left inside clusters: {:.2f}%\".format(abn_var_inside))\n",
    "\n",
    "    return cluster_stats "
   ]
  },
  {
   "cell_type": "code",
   "execution_count": 26,
   "metadata": {},
   "outputs": [
    {
     "name": "stdout",
     "output_type": "stream",
     "text": [
      "Total abnormality variance: 27.320450327939486\n",
      "Abnormality variance explained by between-cluster variance: 5.71%\n",
      "Abnormality variance left inside clusters: 94.29%\n"
     ]
    },
    {
     "data": {
      "text/html": [
       "<div>\n",
       "<style>\n",
       "    .dataframe thead tr:only-child th {\n",
       "        text-align: right;\n",
       "    }\n",
       "\n",
       "    .dataframe thead th {\n",
       "        text-align: left;\n",
       "    }\n",
       "\n",
       "    .dataframe tbody tr th {\n",
       "        vertical-align: top;\n",
       "    }\n",
       "</style>\n",
       "<table border=\"1\" class=\"dataframe\">\n",
       "  <thead>\n",
       "    <tr style=\"text-align: right;\">\n",
       "      <th></th>\n",
       "      <th>len</th>\n",
       "      <th>mean</th>\n",
       "      <th>std</th>\n",
       "      <th>truevar</th>\n",
       "      <th>var_in_cluster</th>\n",
       "      <th>var_in_cluster_%</th>\n",
       "    </tr>\n",
       "    <tr>\n",
       "      <th>f6</th>\n",
       "      <th></th>\n",
       "      <th></th>\n",
       "      <th></th>\n",
       "      <th></th>\n",
       "      <th></th>\n",
       "      <th></th>\n",
       "    </tr>\n",
       "  </thead>\n",
       "  <tbody>\n",
       "    <tr>\n",
       "      <th>0.0</th>\n",
       "      <td>548.0</td>\n",
       "      <td>14.284672</td>\n",
       "      <td>5.572456</td>\n",
       "      <td>30.995604</td>\n",
       "      <td>1.867369</td>\n",
       "      <td>0.068351</td>\n",
       "    </tr>\n",
       "    <tr>\n",
       "      <th>1.0</th>\n",
       "      <td>248.0</td>\n",
       "      <td>13.241935</td>\n",
       "      <td>4.657276</td>\n",
       "      <td>21.602758</td>\n",
       "      <td>0.588993</td>\n",
       "      <td>0.021559</td>\n",
       "    </tr>\n",
       "    <tr>\n",
       "      <th>2.0</th>\n",
       "      <td>182.0</td>\n",
       "      <td>12.401099</td>\n",
       "      <td>4.292947</td>\n",
       "      <td>18.328131</td>\n",
       "      <td>0.366724</td>\n",
       "      <td>0.013423</td>\n",
       "    </tr>\n",
       "    <tr>\n",
       "      <th>3.0</th>\n",
       "      <td>203.0</td>\n",
       "      <td>13.152709</td>\n",
       "      <td>4.772169</td>\n",
       "      <td>22.661409</td>\n",
       "      <td>0.505746</td>\n",
       "      <td>0.018512</td>\n",
       "    </tr>\n",
       "    <tr>\n",
       "      <th>4.0</th>\n",
       "      <td>190.0</td>\n",
       "      <td>13.342105</td>\n",
       "      <td>5.203155</td>\n",
       "      <td>26.930332</td>\n",
       "      <td>0.562529</td>\n",
       "      <td>0.020590</td>\n",
       "    </tr>\n",
       "    <tr>\n",
       "      <th>5.0</th>\n",
       "      <td>246.0</td>\n",
       "      <td>13.825203</td>\n",
       "      <td>5.110806</td>\n",
       "      <td>26.014162</td>\n",
       "      <td>0.703549</td>\n",
       "      <td>0.025752</td>\n",
       "    </tr>\n",
       "    <tr>\n",
       "      <th>6.0</th>\n",
       "      <td>341.0</td>\n",
       "      <td>13.296188</td>\n",
       "      <td>5.733566</td>\n",
       "      <td>32.777375</td>\n",
       "      <td>1.228791</td>\n",
       "      <td>0.044977</td>\n",
       "    </tr>\n",
       "    <tr>\n",
       "      <th>7.0</th>\n",
       "      <td>437.0</td>\n",
       "      <td>14.167048</td>\n",
       "      <td>5.606518</td>\n",
       "      <td>31.361111</td>\n",
       "      <td>1.506685</td>\n",
       "      <td>0.055149</td>\n",
       "    </tr>\n",
       "    <tr>\n",
       "      <th>8.0</th>\n",
       "      <td>506.0</td>\n",
       "      <td>14.371542</td>\n",
       "      <td>5.571880</td>\n",
       "      <td>30.984487</td>\n",
       "      <td>1.723631</td>\n",
       "      <td>0.063089</td>\n",
       "    </tr>\n",
       "    <tr>\n",
       "      <th>9.0</th>\n",
       "      <td>505.0</td>\n",
       "      <td>13.883168</td>\n",
       "      <td>5.481952</td>\n",
       "      <td>29.992291</td>\n",
       "      <td>1.665139</td>\n",
       "      <td>0.060948</td>\n",
       "    </tr>\n",
       "    <tr>\n",
       "      <th>10.0</th>\n",
       "      <td>470.0</td>\n",
       "      <td>12.778723</td>\n",
       "      <td>5.586877</td>\n",
       "      <td>31.146781</td>\n",
       "      <td>1.609387</td>\n",
       "      <td>0.058908</td>\n",
       "    </tr>\n",
       "    <tr>\n",
       "      <th>11.0</th>\n",
       "      <td>437.0</td>\n",
       "      <td>12.233410</td>\n",
       "      <td>5.246273</td>\n",
       "      <td>27.460394</td>\n",
       "      <td>1.319282</td>\n",
       "      <td>0.048289</td>\n",
       "    </tr>\n",
       "    <tr>\n",
       "      <th>12.0</th>\n",
       "      <td>392.0</td>\n",
       "      <td>11.982143</td>\n",
       "      <td>5.079137</td>\n",
       "      <td>25.731824</td>\n",
       "      <td>1.108935</td>\n",
       "      <td>0.040590</td>\n",
       "    </tr>\n",
       "    <tr>\n",
       "      <th>13.0</th>\n",
       "      <td>420.0</td>\n",
       "      <td>11.816667</td>\n",
       "      <td>4.971250</td>\n",
       "      <td>24.654484</td>\n",
       "      <td>1.138400</td>\n",
       "      <td>0.041668</td>\n",
       "    </tr>\n",
       "    <tr>\n",
       "      <th>14.0</th>\n",
       "      <td>420.0</td>\n",
       "      <td>11.590476</td>\n",
       "      <td>5.043856</td>\n",
       "      <td>25.379909</td>\n",
       "      <td>1.171896</td>\n",
       "      <td>0.042894</td>\n",
       "    </tr>\n",
       "    <tr>\n",
       "      <th>15.0</th>\n",
       "      <td>430.0</td>\n",
       "      <td>11.244186</td>\n",
       "      <td>4.872108</td>\n",
       "      <td>23.682234</td>\n",
       "      <td>1.119543</td>\n",
       "      <td>0.040978</td>\n",
       "    </tr>\n",
       "    <tr>\n",
       "      <th>16.0</th>\n",
       "      <td>452.0</td>\n",
       "      <td>11.336283</td>\n",
       "      <td>4.845480</td>\n",
       "      <td>23.426737</td>\n",
       "      <td>1.164125</td>\n",
       "      <td>0.042610</td>\n",
       "    </tr>\n",
       "    <tr>\n",
       "      <th>17.0</th>\n",
       "      <td>420.0</td>\n",
       "      <td>11.269048</td>\n",
       "      <td>4.890836</td>\n",
       "      <td>23.863328</td>\n",
       "      <td>1.101869</td>\n",
       "      <td>0.040331</td>\n",
       "    </tr>\n",
       "    <tr>\n",
       "      <th>18.0</th>\n",
       "      <td>418.0</td>\n",
       "      <td>11.519139</td>\n",
       "      <td>5.030446</td>\n",
       "      <td>25.244849</td>\n",
       "      <td>1.160108</td>\n",
       "      <td>0.042463</td>\n",
       "    </tr>\n",
       "    <tr>\n",
       "      <th>19.0</th>\n",
       "      <td>433.0</td>\n",
       "      <td>11.803695</td>\n",
       "      <td>4.975941</td>\n",
       "      <td>24.702804</td>\n",
       "      <td>1.175936</td>\n",
       "      <td>0.043042</td>\n",
       "    </tr>\n",
       "    <tr>\n",
       "      <th>20.0</th>\n",
       "      <td>455.0</td>\n",
       "      <td>11.160440</td>\n",
       "      <td>4.473930</td>\n",
       "      <td>19.972061</td>\n",
       "      <td>0.999042</td>\n",
       "      <td>0.036568</td>\n",
       "    </tr>\n",
       "    <tr>\n",
       "      <th>21.0</th>\n",
       "      <td>387.0</td>\n",
       "      <td>11.297158</td>\n",
       "      <td>4.710485</td>\n",
       "      <td>22.131336</td>\n",
       "      <td>0.941604</td>\n",
       "      <td>0.034465</td>\n",
       "    </tr>\n",
       "    <tr>\n",
       "      <th>22.0</th>\n",
       "      <td>313.0</td>\n",
       "      <td>10.610224</td>\n",
       "      <td>4.316949</td>\n",
       "      <td>18.576509</td>\n",
       "      <td>0.639231</td>\n",
       "      <td>0.023398</td>\n",
       "    </tr>\n",
       "    <tr>\n",
       "      <th>23.0</th>\n",
       "      <td>243.0</td>\n",
       "      <td>9.728395</td>\n",
       "      <td>3.836576</td>\n",
       "      <td>14.658741</td>\n",
       "      <td>0.391609</td>\n",
       "      <td>0.014334</td>\n",
       "    </tr>\n",
       "  </tbody>\n",
       "</table>\n",
       "</div>"
      ],
      "text/plain": [
       "        len       mean       std    truevar  var_in_cluster  var_in_cluster_%\n",
       "f6                                                                           \n",
       "0.0   548.0  14.284672  5.572456  30.995604        1.867369          0.068351\n",
       "1.0   248.0  13.241935  4.657276  21.602758        0.588993          0.021559\n",
       "2.0   182.0  12.401099  4.292947  18.328131        0.366724          0.013423\n",
       "3.0   203.0  13.152709  4.772169  22.661409        0.505746          0.018512\n",
       "4.0   190.0  13.342105  5.203155  26.930332        0.562529          0.020590\n",
       "5.0   246.0  13.825203  5.110806  26.014162        0.703549          0.025752\n",
       "6.0   341.0  13.296188  5.733566  32.777375        1.228791          0.044977\n",
       "7.0   437.0  14.167048  5.606518  31.361111        1.506685          0.055149\n",
       "8.0   506.0  14.371542  5.571880  30.984487        1.723631          0.063089\n",
       "9.0   505.0  13.883168  5.481952  29.992291        1.665139          0.060948\n",
       "10.0  470.0  12.778723  5.586877  31.146781        1.609387          0.058908\n",
       "11.0  437.0  12.233410  5.246273  27.460394        1.319282          0.048289\n",
       "12.0  392.0  11.982143  5.079137  25.731824        1.108935          0.040590\n",
       "13.0  420.0  11.816667  4.971250  24.654484        1.138400          0.041668\n",
       "14.0  420.0  11.590476  5.043856  25.379909        1.171896          0.042894\n",
       "15.0  430.0  11.244186  4.872108  23.682234        1.119543          0.040978\n",
       "16.0  452.0  11.336283  4.845480  23.426737        1.164125          0.042610\n",
       "17.0  420.0  11.269048  4.890836  23.863328        1.101869          0.040331\n",
       "18.0  418.0  11.519139  5.030446  25.244849        1.160108          0.042463\n",
       "19.0  433.0  11.803695  4.975941  24.702804        1.175936          0.043042\n",
       "20.0  455.0  11.160440  4.473930  19.972061        0.999042          0.036568\n",
       "21.0  387.0  11.297158  4.710485  22.131336        0.941604          0.034465\n",
       "22.0  313.0  10.610224  4.316949  18.576509        0.639231          0.023398\n",
       "23.0  243.0   9.728395  3.836576  14.658741        0.391609          0.014334"
      ]
     },
     "execution_count": 26,
     "metadata": {},
     "output_type": "execute_result"
    }
   ],
   "source": [
    "cluster_by(abnormality, \"f6\")"
   ]
  },
  {
   "cell_type": "code",
   "execution_count": 27,
   "metadata": {},
   "outputs": [
    {
     "name": "stdout",
     "output_type": "stream",
     "text": [
      "Total abnormality variance: 27.320450327939486\n",
      "Abnormality variance explained by between-cluster variance: 5.80%\n",
      "Abnormality variance left inside clusters: 94.20%\n"
     ]
    },
    {
     "data": {
      "text/html": [
       "<div>\n",
       "<style>\n",
       "    .dataframe thead tr:only-child th {\n",
       "        text-align: right;\n",
       "    }\n",
       "\n",
       "    .dataframe thead th {\n",
       "        text-align: left;\n",
       "    }\n",
       "\n",
       "    .dataframe tbody tr th {\n",
       "        vertical-align: top;\n",
       "    }\n",
       "</style>\n",
       "<table border=\"1\" class=\"dataframe\">\n",
       "  <thead>\n",
       "    <tr style=\"text-align: right;\">\n",
       "      <th></th>\n",
       "      <th>len</th>\n",
       "      <th>mean</th>\n",
       "      <th>std</th>\n",
       "      <th>truevar</th>\n",
       "      <th>var_in_cluster</th>\n",
       "      <th>var_in_cluster_%</th>\n",
       "    </tr>\n",
       "    <tr>\n",
       "      <th>f7</th>\n",
       "      <th></th>\n",
       "      <th></th>\n",
       "      <th></th>\n",
       "      <th></th>\n",
       "      <th></th>\n",
       "      <th></th>\n",
       "    </tr>\n",
       "  </thead>\n",
       "  <tbody>\n",
       "    <tr>\n",
       "      <th>0.0</th>\n",
       "      <td>224.0</td>\n",
       "      <td>9.839286</td>\n",
       "      <td>4.113967</td>\n",
       "      <td>16.849171</td>\n",
       "      <td>0.414931</td>\n",
       "      <td>0.015188</td>\n",
       "    </tr>\n",
       "    <tr>\n",
       "      <th>1.0</th>\n",
       "      <td>177.0</td>\n",
       "      <td>12.107345</td>\n",
       "      <td>4.163532</td>\n",
       "      <td>17.237065</td>\n",
       "      <td>0.335418</td>\n",
       "      <td>0.012277</td>\n",
       "    </tr>\n",
       "    <tr>\n",
       "      <th>2.0</th>\n",
       "      <td>143.0</td>\n",
       "      <td>11.335664</td>\n",
       "      <td>3.624922</td>\n",
       "      <td>13.048169</td>\n",
       "      <td>0.205133</td>\n",
       "      <td>0.007508</td>\n",
       "    </tr>\n",
       "    <tr>\n",
       "      <th>3.0</th>\n",
       "      <td>139.0</td>\n",
       "      <td>11.330935</td>\n",
       "      <td>3.697607</td>\n",
       "      <td>13.573935</td>\n",
       "      <td>0.207429</td>\n",
       "      <td>0.007592</td>\n",
       "    </tr>\n",
       "    <tr>\n",
       "      <th>4.0</th>\n",
       "      <td>126.0</td>\n",
       "      <td>11.460317</td>\n",
       "      <td>4.362845</td>\n",
       "      <td>18.883346</td>\n",
       "      <td>0.261577</td>\n",
       "      <td>0.009574</td>\n",
       "    </tr>\n",
       "    <tr>\n",
       "      <th>5.0</th>\n",
       "      <td>139.0</td>\n",
       "      <td>11.633094</td>\n",
       "      <td>4.314021</td>\n",
       "      <td>18.476890</td>\n",
       "      <td>0.282354</td>\n",
       "      <td>0.010335</td>\n",
       "    </tr>\n",
       "    <tr>\n",
       "      <th>6.0</th>\n",
       "      <td>196.0</td>\n",
       "      <td>9.948980</td>\n",
       "      <td>4.144499</td>\n",
       "      <td>17.089234</td>\n",
       "      <td>0.368238</td>\n",
       "      <td>0.013478</td>\n",
       "    </tr>\n",
       "    <tr>\n",
       "      <th>7.0</th>\n",
       "      <td>229.0</td>\n",
       "      <td>10.724891</td>\n",
       "      <td>4.400791</td>\n",
       "      <td>19.282394</td>\n",
       "      <td>0.485452</td>\n",
       "      <td>0.017769</td>\n",
       "    </tr>\n",
       "    <tr>\n",
       "      <th>8.0</th>\n",
       "      <td>258.0</td>\n",
       "      <td>10.980620</td>\n",
       "      <td>4.598639</td>\n",
       "      <td>21.065516</td>\n",
       "      <td>0.597505</td>\n",
       "      <td>0.021870</td>\n",
       "    </tr>\n",
       "    <tr>\n",
       "      <th>9.0</th>\n",
       "      <td>270.0</td>\n",
       "      <td>10.896296</td>\n",
       "      <td>4.450929</td>\n",
       "      <td>19.737394</td>\n",
       "      <td>0.585873</td>\n",
       "      <td>0.021444</td>\n",
       "    </tr>\n",
       "    <tr>\n",
       "      <th>10.0</th>\n",
       "      <td>338.0</td>\n",
       "      <td>10.686391</td>\n",
       "      <td>4.433069</td>\n",
       "      <td>19.593957</td>\n",
       "      <td>0.728096</td>\n",
       "      <td>0.026650</td>\n",
       "    </tr>\n",
       "    <tr>\n",
       "      <th>11.0</th>\n",
       "      <td>360.0</td>\n",
       "      <td>11.291667</td>\n",
       "      <td>4.829798</td>\n",
       "      <td>23.262153</td>\n",
       "      <td>0.920666</td>\n",
       "      <td>0.033699</td>\n",
       "    </tr>\n",
       "    <tr>\n",
       "      <th>12.0</th>\n",
       "      <td>335.0</td>\n",
       "      <td>11.402985</td>\n",
       "      <td>4.947811</td>\n",
       "      <td>24.407752</td>\n",
       "      <td>0.898922</td>\n",
       "      <td>0.032903</td>\n",
       "    </tr>\n",
       "    <tr>\n",
       "      <th>13.0</th>\n",
       "      <td>390.0</td>\n",
       "      <td>11.323077</td>\n",
       "      <td>4.744173</td>\n",
       "      <td>22.449467</td>\n",
       "      <td>0.962543</td>\n",
       "      <td>0.035232</td>\n",
       "    </tr>\n",
       "    <tr>\n",
       "      <th>14.0</th>\n",
       "      <td>428.0</td>\n",
       "      <td>11.883178</td>\n",
       "      <td>5.067728</td>\n",
       "      <td>25.621867</td>\n",
       "      <td>1.205602</td>\n",
       "      <td>0.044128</td>\n",
       "    </tr>\n",
       "    <tr>\n",
       "      <th>15.0</th>\n",
       "      <td>479.0</td>\n",
       "      <td>11.839248</td>\n",
       "      <td>5.185396</td>\n",
       "      <td>26.832197</td>\n",
       "      <td>1.412997</td>\n",
       "      <td>0.051719</td>\n",
       "    </tr>\n",
       "    <tr>\n",
       "      <th>16.0</th>\n",
       "      <td>570.0</td>\n",
       "      <td>12.719298</td>\n",
       "      <td>5.474512</td>\n",
       "      <td>29.917698</td>\n",
       "      <td>1.874790</td>\n",
       "      <td>0.068622</td>\n",
       "    </tr>\n",
       "    <tr>\n",
       "      <th>17.0</th>\n",
       "      <td>531.0</td>\n",
       "      <td>12.581921</td>\n",
       "      <td>5.325834</td>\n",
       "      <td>28.311086</td>\n",
       "      <td>1.652725</td>\n",
       "      <td>0.060494</td>\n",
       "    </tr>\n",
       "    <tr>\n",
       "      <th>18.0</th>\n",
       "      <td>550.0</td>\n",
       "      <td>12.861818</td>\n",
       "      <td>5.603716</td>\n",
       "      <td>31.344542</td>\n",
       "      <td>1.895283</td>\n",
       "      <td>0.069372</td>\n",
       "    </tr>\n",
       "    <tr>\n",
       "      <th>19.0</th>\n",
       "      <td>548.0</td>\n",
       "      <td>12.812044</td>\n",
       "      <td>5.252603</td>\n",
       "      <td>27.539490</td>\n",
       "      <td>1.659151</td>\n",
       "      <td>0.060729</td>\n",
       "    </tr>\n",
       "    <tr>\n",
       "      <th>20.0</th>\n",
       "      <td>682.0</td>\n",
       "      <td>13.351906</td>\n",
       "      <td>5.353789</td>\n",
       "      <td>28.621030</td>\n",
       "      <td>2.145948</td>\n",
       "      <td>0.078547</td>\n",
       "    </tr>\n",
       "    <tr>\n",
       "      <th>21.0</th>\n",
       "      <td>654.0</td>\n",
       "      <td>13.801223</td>\n",
       "      <td>5.473332</td>\n",
       "      <td>29.911558</td>\n",
       "      <td>2.150633</td>\n",
       "      <td>0.078719</td>\n",
       "    </tr>\n",
       "    <tr>\n",
       "      <th>22.0</th>\n",
       "      <td>644.0</td>\n",
       "      <td>14.099379</td>\n",
       "      <td>5.514528</td>\n",
       "      <td>30.362795</td>\n",
       "      <td>2.149697</td>\n",
       "      <td>0.078685</td>\n",
       "    </tr>\n",
       "    <tr>\n",
       "      <th>23.0</th>\n",
       "      <td>686.0</td>\n",
       "      <td>14.465015</td>\n",
       "      <td>5.569555</td>\n",
       "      <td>30.974724</td>\n",
       "      <td>2.336044</td>\n",
       "      <td>0.085505</td>\n",
       "    </tr>\n",
       "  </tbody>\n",
       "</table>\n",
       "</div>"
      ],
      "text/plain": [
       "        len       mean       std    truevar  var_in_cluster  var_in_cluster_%\n",
       "f7                                                                           \n",
       "0.0   224.0   9.839286  4.113967  16.849171        0.414931          0.015188\n",
       "1.0   177.0  12.107345  4.163532  17.237065        0.335418          0.012277\n",
       "2.0   143.0  11.335664  3.624922  13.048169        0.205133          0.007508\n",
       "3.0   139.0  11.330935  3.697607  13.573935        0.207429          0.007592\n",
       "4.0   126.0  11.460317  4.362845  18.883346        0.261577          0.009574\n",
       "5.0   139.0  11.633094  4.314021  18.476890        0.282354          0.010335\n",
       "6.0   196.0   9.948980  4.144499  17.089234        0.368238          0.013478\n",
       "7.0   229.0  10.724891  4.400791  19.282394        0.485452          0.017769\n",
       "8.0   258.0  10.980620  4.598639  21.065516        0.597505          0.021870\n",
       "9.0   270.0  10.896296  4.450929  19.737394        0.585873          0.021444\n",
       "10.0  338.0  10.686391  4.433069  19.593957        0.728096          0.026650\n",
       "11.0  360.0  11.291667  4.829798  23.262153        0.920666          0.033699\n",
       "12.0  335.0  11.402985  4.947811  24.407752        0.898922          0.032903\n",
       "13.0  390.0  11.323077  4.744173  22.449467        0.962543          0.035232\n",
       "14.0  428.0  11.883178  5.067728  25.621867        1.205602          0.044128\n",
       "15.0  479.0  11.839248  5.185396  26.832197        1.412997          0.051719\n",
       "16.0  570.0  12.719298  5.474512  29.917698        1.874790          0.068622\n",
       "17.0  531.0  12.581921  5.325834  28.311086        1.652725          0.060494\n",
       "18.0  550.0  12.861818  5.603716  31.344542        1.895283          0.069372\n",
       "19.0  548.0  12.812044  5.252603  27.539490        1.659151          0.060729\n",
       "20.0  682.0  13.351906  5.353789  28.621030        2.145948          0.078547\n",
       "21.0  654.0  13.801223  5.473332  29.911558        2.150633          0.078719\n",
       "22.0  644.0  14.099379  5.514528  30.362795        2.149697          0.078685\n",
       "23.0  686.0  14.465015  5.569555  30.974724        2.336044          0.085505"
      ]
     },
     "execution_count": 27,
     "metadata": {},
     "output_type": "execute_result"
    }
   ],
   "source": [
    "cluster_by(abnormality, \"f7\")"
   ]
  },
  {
   "cell_type": "code",
   "execution_count": 28,
   "metadata": {},
   "outputs": [
    {
     "name": "stdout",
     "output_type": "stream",
     "text": [
      "Total abnormality variance: 27.320450327939486\n",
      "Abnormality variance explained by between-cluster variance: 18.17%\n",
      "Abnormality variance left inside clusters: 81.83%\n"
     ]
    },
    {
     "data": {
      "text/html": [
       "<div>\n",
       "<style>\n",
       "    .dataframe thead tr:only-child th {\n",
       "        text-align: right;\n",
       "    }\n",
       "\n",
       "    .dataframe thead th {\n",
       "        text-align: left;\n",
       "    }\n",
       "\n",
       "    .dataframe tbody tr th {\n",
       "        vertical-align: top;\n",
       "    }\n",
       "</style>\n",
       "<table border=\"1\" class=\"dataframe\">\n",
       "  <thead>\n",
       "    <tr style=\"text-align: right;\">\n",
       "      <th></th>\n",
       "      <th>len</th>\n",
       "      <th>mean</th>\n",
       "      <th>std</th>\n",
       "      <th>truevar</th>\n",
       "      <th>var_in_cluster</th>\n",
       "      <th>var_in_cluster_%</th>\n",
       "    </tr>\n",
       "    <tr>\n",
       "      <th>f10</th>\n",
       "      <th></th>\n",
       "      <th></th>\n",
       "      <th></th>\n",
       "      <th></th>\n",
       "      <th></th>\n",
       "      <th></th>\n",
       "    </tr>\n",
       "  </thead>\n",
       "  <tbody>\n",
       "    <tr>\n",
       "      <th>0.0</th>\n",
       "      <td>6959.0</td>\n",
       "      <td>11.146285</td>\n",
       "      <td>4.122846</td>\n",
       "      <td>16.995413</td>\n",
       "      <td>13.002538</td>\n",
       "      <td>0.475927</td>\n",
       "    </tr>\n",
       "    <tr>\n",
       "      <th>1.0</th>\n",
       "      <td>2137.0</td>\n",
       "      <td>16.401029</td>\n",
       "      <td>6.311637</td>\n",
       "      <td>39.818118</td>\n",
       "      <td>9.354806</td>\n",
       "      <td>0.342410</td>\n",
       "    </tr>\n",
       "  </tbody>\n",
       "</table>\n",
       "</div>"
      ],
      "text/plain": [
       "        len       mean       std    truevar  var_in_cluster  var_in_cluster_%\n",
       "f10                                                                          \n",
       "0.0  6959.0  11.146285  4.122846  16.995413       13.002538          0.475927\n",
       "1.0  2137.0  16.401029  6.311637  39.818118        9.354806          0.342410"
      ]
     },
     "execution_count": 28,
     "metadata": {},
     "output_type": "execute_result"
    }
   ],
   "source": [
    "cluster_by(abnormality, \"f10\")"
   ]
  },
  {
   "cell_type": "code",
   "execution_count": 29,
   "metadata": {},
   "outputs": [
    {
     "name": "stdout",
     "output_type": "stream",
     "text": [
      "Total abnormality variance: 27.320450327939486\n",
      "Abnormality variance explained by between-cluster variance: 1.17%\n",
      "Abnormality variance left inside clusters: 98.83%\n"
     ]
    },
    {
     "data": {
      "text/html": [
       "<div>\n",
       "<style>\n",
       "    .dataframe thead tr:only-child th {\n",
       "        text-align: right;\n",
       "    }\n",
       "\n",
       "    .dataframe thead th {\n",
       "        text-align: left;\n",
       "    }\n",
       "\n",
       "    .dataframe tbody tr th {\n",
       "        vertical-align: top;\n",
       "    }\n",
       "</style>\n",
       "<table border=\"1\" class=\"dataframe\">\n",
       "  <thead>\n",
       "    <tr style=\"text-align: right;\">\n",
       "      <th></th>\n",
       "      <th>len</th>\n",
       "      <th>mean</th>\n",
       "      <th>std</th>\n",
       "      <th>truevar</th>\n",
       "      <th>var_in_cluster</th>\n",
       "      <th>var_in_cluster_%</th>\n",
       "    </tr>\n",
       "    <tr>\n",
       "      <th>f11</th>\n",
       "      <th></th>\n",
       "      <th></th>\n",
       "      <th></th>\n",
       "      <th></th>\n",
       "      <th></th>\n",
       "      <th></th>\n",
       "    </tr>\n",
       "  </thead>\n",
       "  <tbody>\n",
       "    <tr>\n",
       "      <th>0.0</th>\n",
       "      <td>872.0</td>\n",
       "      <td>10.645642</td>\n",
       "      <td>3.974012</td>\n",
       "      <td>15.774660</td>\n",
       "      <td>1.512259</td>\n",
       "      <td>0.055353</td>\n",
       "    </tr>\n",
       "    <tr>\n",
       "      <th>1.0</th>\n",
       "      <td>8224.0</td>\n",
       "      <td>12.564810</td>\n",
       "      <td>5.309896</td>\n",
       "      <td>28.191568</td>\n",
       "      <td>25.488946</td>\n",
       "      <td>0.932962</td>\n",
       "    </tr>\n",
       "  </tbody>\n",
       "</table>\n",
       "</div>"
      ],
      "text/plain": [
       "        len       mean       std    truevar  var_in_cluster  var_in_cluster_%\n",
       "f11                                                                          \n",
       "0.0   872.0  10.645642  3.974012  15.774660        1.512259          0.055353\n",
       "1.0  8224.0  12.564810  5.309896  28.191568       25.488946          0.932962"
      ]
     },
     "execution_count": 29,
     "metadata": {},
     "output_type": "execute_result"
    }
   ],
   "source": [
    "cluster_by(abnormality, \"f11\")"
   ]
  },
  {
   "cell_type": "code",
   "execution_count": 30,
   "metadata": {},
   "outputs": [
    {
     "name": "stdout",
     "output_type": "stream",
     "text": [
      "Total abnormality variance: 27.320450327939486\n",
      "Abnormality variance explained by between-cluster variance: 0.11%\n",
      "Abnormality variance left inside clusters: 99.89%\n"
     ]
    },
    {
     "data": {
      "text/html": [
       "<div>\n",
       "<style>\n",
       "    .dataframe thead tr:only-child th {\n",
       "        text-align: right;\n",
       "    }\n",
       "\n",
       "    .dataframe thead th {\n",
       "        text-align: left;\n",
       "    }\n",
       "\n",
       "    .dataframe tbody tr th {\n",
       "        vertical-align: top;\n",
       "    }\n",
       "</style>\n",
       "<table border=\"1\" class=\"dataframe\">\n",
       "  <thead>\n",
       "    <tr style=\"text-align: right;\">\n",
       "      <th></th>\n",
       "      <th>len</th>\n",
       "      <th>mean</th>\n",
       "      <th>std</th>\n",
       "      <th>truevar</th>\n",
       "      <th>var_in_cluster</th>\n",
       "      <th>var_in_cluster_%</th>\n",
       "    </tr>\n",
       "    <tr>\n",
       "      <th>f34</th>\n",
       "      <th></th>\n",
       "      <th></th>\n",
       "      <th></th>\n",
       "      <th></th>\n",
       "      <th></th>\n",
       "      <th></th>\n",
       "    </tr>\n",
       "  </thead>\n",
       "  <tbody>\n",
       "    <tr>\n",
       "      <th>0.0</th>\n",
       "      <td>8705.0</td>\n",
       "      <td>12.418036</td>\n",
       "      <td>5.275474</td>\n",
       "      <td>27.827429</td>\n",
       "      <td>26.631241</td>\n",
       "      <td>0.974773</td>\n",
       "    </tr>\n",
       "    <tr>\n",
       "      <th>1.0</th>\n",
       "      <td>391.0</td>\n",
       "      <td>11.552430</td>\n",
       "      <td>3.918619</td>\n",
       "      <td>15.316305</td>\n",
       "      <td>0.658386</td>\n",
       "      <td>0.024099</td>\n",
       "    </tr>\n",
       "  </tbody>\n",
       "</table>\n",
       "</div>"
      ],
      "text/plain": [
       "        len       mean       std    truevar  var_in_cluster  var_in_cluster_%\n",
       "f34                                                                          \n",
       "0.0  8705.0  12.418036  5.275474  27.827429       26.631241          0.974773\n",
       "1.0   391.0  11.552430  3.918619  15.316305        0.658386          0.024099"
      ]
     },
     "execution_count": 30,
     "metadata": {},
     "output_type": "execute_result"
    }
   ],
   "source": [
    "cluster_by(abnormality, \"f34\")"
   ]
  },
  {
   "cell_type": "markdown",
   "metadata": {},
   "source": [
    "It seems like clusterization does not work well :("
   ]
  },
  {
   "cell_type": "markdown",
   "metadata": {},
   "source": [
    "## Classification"
   ]
  },
  {
   "cell_type": "code",
   "execution_count": 31,
   "metadata": {
    "collapsed": true
   },
   "outputs": [],
   "source": [
    "params = {\n",
    "    \"objective\": \"binary:logistic\",\n",
    "    \"silent\": 1,\n",
    "    \"max_depth\": 5,\n",
    "    \"nthread\": 10\n",
    "}"
   ]
  },
  {
   "cell_type": "code",
   "execution_count": 32,
   "metadata": {
    "collapsed": true
   },
   "outputs": [],
   "source": [
    "X = df.as_matrix()\n",
    "Y = (abnormality >= 25).astype(int)"
   ]
  },
  {
   "cell_type": "code",
   "execution_count": 34,
   "metadata": {
    "collapsed": true
   },
   "outputs": [],
   "source": [
    "spliter = StratifiedShuffleSplit(n_splits=1, test_size=0.8, random_state=0)\n",
    "(test_indices, train_indices), = spliter.split(X, Y)"
   ]
  },
  {
   "cell_type": "code",
   "execution_count": 35,
   "metadata": {
    "collapsed": true
   },
   "outputs": [],
   "source": [
    "train_X, test_X = X[train_indices], X[test_indices]\n",
    "train_Y, test_Y = Y[train_indices], Y[test_indices]"
   ]
  },
  {
   "cell_type": "code",
   "execution_count": 36,
   "metadata": {
    "collapsed": true
   },
   "outputs": [],
   "source": [
    "xgb_train = xgb.DMatrix(train_X, label=train_Y.squeeze())\n",
    "xgb_test = xgb.DMatrix(test_X, label=test_Y.squeeze())"
   ]
  },
  {
   "cell_type": "code",
   "execution_count": 37,
   "metadata": {},
   "outputs": [
    {
     "name": "stdout",
     "output_type": "stream",
     "text": [
      "[0]\ttrain-error:0.001924\ttest-error:0.00055\n",
      "[1]\ttrain-error:0.001924\ttest-error:0.00055\n",
      "[2]\ttrain-error:0.001786\ttest-error:0.00055\n",
      "[3]\ttrain-error:0.001512\ttest-error:0.00055\n",
      "[4]\ttrain-error:0.001374\ttest-error:0.00055\n",
      "[5]\ttrain-error:0.001374\ttest-error:0.00055\n",
      "[6]\ttrain-error:0.001374\ttest-error:0.00055\n",
      "[7]\ttrain-error:0.001237\ttest-error:0.00055\n",
      "[8]\ttrain-error:0.001237\ttest-error:0.00055\n",
      "[9]\ttrain-error:0.001237\ttest-error:0.00055\n",
      "[10]\ttrain-error:0.001237\ttest-error:0.00055\n",
      "[11]\ttrain-error:0.001099\ttest-error:0.00055\n",
      "[12]\ttrain-error:0.001099\ttest-error:0.00055\n",
      "[13]\ttrain-error:0.000825\ttest-error:0.00055\n",
      "[14]\ttrain-error:0.000687\ttest-error:0.00055\n",
      "[15]\ttrain-error:0.00055\ttest-error:0.00055\n",
      "[16]\ttrain-error:0.000412\ttest-error:0.00055\n",
      "[17]\ttrain-error:0.000275\ttest-error:0.00055\n",
      "[18]\ttrain-error:0.000137\ttest-error:0.00055\n",
      "[19]\ttrain-error:0.000137\ttest-error:0.00055\n"
     ]
    }
   ],
   "source": [
    "watchlist = [(xgb_train, \"train\"), (xgb_test, \"test\")]\n",
    "num_round = 20\n",
    "booster = xgb.train(params, xgb_train, num_round, watchlist)"
   ]
  },
  {
   "cell_type": "code",
   "execution_count": 38,
   "metadata": {
    "collapsed": true
   },
   "outputs": [],
   "source": [
    "values = booster.predict(xgb.DMatrix(test_X))\n",
    "fraud = values > 0.5"
   ]
  },
  {
   "cell_type": "code",
   "execution_count": 39,
   "metadata": {},
   "outputs": [
    {
     "name": "stdout",
     "output_type": "stream",
     "text": [
      "Precision: 99.945%\n"
     ]
    }
   ],
   "source": [
    "precision = np.sum(fraud == test_Y) / len(test_Y)\n",
    "print(\"Precision: {:0.3f}%\".format(100 * precision))"
   ]
  },
  {
   "cell_type": "code",
   "execution_count": 40,
   "metadata": {},
   "outputs": [
    {
     "name": "stdout",
     "output_type": "stream",
     "text": [
      "Recall: 94.737%\n"
     ]
    }
   ],
   "source": [
    "recall = np.sum(np.logical_and(fraud == 1, test_Y == 1)) / np.sum(test_Y == 1)\n",
    "print(\"Recall: {:0.3f}%\".format(100 * recall))"
   ]
  },
  {
   "cell_type": "markdown",
   "metadata": {},
   "source": [
    "It seems like xgboost works!"
   ]
  }
 ],
 "metadata": {
  "kernelspec": {
   "display_name": "Python 3",
   "language": "python",
   "name": "python3"
  },
  "language_info": {
   "codemirror_mode": {
    "name": "ipython",
    "version": 3
   },
   "file_extension": ".py",
   "mimetype": "text/x-python",
   "name": "python",
   "nbconvert_exporter": "python",
   "pygments_lexer": "ipython3",
   "version": "3.6.1"
  }
 },
 "nbformat": 4,
 "nbformat_minor": 2
}
